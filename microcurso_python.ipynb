{
  "nbformat": 4,
  "nbformat_minor": 0,
  "metadata": {
    "colab": {
      "private_outputs": true,
      "provenance": [],
      "authorship_tag": "ABX9TyPaAT4euWcL2iXXHzzGneuD",
      "include_colab_link": true
    },
    "kernelspec": {
      "name": "python3",
      "display_name": "Python 3"
    },
    "language_info": {
      "name": "python"
    }
  },
  "cells": [
    {
      "cell_type": "markdown",
      "metadata": {
        "id": "view-in-github",
        "colab_type": "text"
      },
      "source": [
        "<a href=\"https://colab.research.google.com/github/Mikheltodd/fund_python_rama_ieee_upb/blob/main/microcurso_python.ipynb\" target=\"_parent\"><img src=\"https://colab.research.google.com/assets/colab-badge.svg\" alt=\"Open In Colab\"/></a>"
      ]
    },
    {
      "cell_type": "markdown",
      "source": [
        "# Microcurso Python\n",
        "## Rama Estudiantil IEEE UPB\n",
        "\n",
        "- Docente: Ing. Miguel Ortiz\n",
        "- Fecha: Agosto, 2023"
      ],
      "metadata": {
        "id": "pLGa3uo6N9cw"
      }
    },
    {
      "cell_type": "code",
      "execution_count": null,
      "metadata": {
        "id": "QzbiNglENv5N"
      },
      "outputs": [],
      "source": [
        "# Este es un comentario\n",
        "\n",
        "\n",
        "# Variables\n",
        "\n",
        "# Numérico\n",
        "\n",
        "# - Enteros (int)\n",
        "\n",
        "a = 5\n",
        "b = 3\n",
        "\n",
        "print(type(a))\n",
        "print(type(b))\n",
        "\n",
        "# - Flotantes/Decimales (float)\n",
        "\n",
        "c = 2.5\n",
        "d = 0.33\n",
        "e = 3.1e6\n",
        "\n",
        "print(type(c))\n",
        "print(type(d))\n",
        "\n",
        "# String\n",
        "\n",
        "firstname = \"\\tMiguel\"\n",
        "lastname = '\\nOrtiz'\n",
        "q = \"What's your name\"\n",
        "ans = 'My name\\'s Miguel'\n",
        "other = \"The so-called \\\"Brainwashin\\\"\"\n",
        "print(q)\n",
        "print(ans)\n",
        "print(other)\n",
        "print(firstname)\n",
        "print(lastname)\n",
        "\n",
        "# Boolean\n",
        "\n",
        "m = True\n",
        "n = False\n",
        "print(m)"
      ]
    },
    {
      "cell_type": "code",
      "source": [
        "# Operaciones\n",
        "\n",
        "# Numéricas\n",
        "# + - * / % **\n",
        "\n",
        "a = 3\n",
        "b = 2.5\n",
        "\n",
        "print(a + b)\n",
        "print(a - b)\n",
        "print(a * b)\n",
        "print(a / b)\n",
        "print(a ** b)\n",
        "print(a % b)\n",
        "\n",
        "# String - Concatenación\n",
        "firstname = \"Miguel\"\n",
        "lastname = \"Ortiz\"\n",
        "\n",
        "fullname = firstname + \" \" + lastname\n",
        "print(fullname)\n",
        "\n",
        "# Boolean\n",
        "# ==, !=, >, <, >=, <=\n",
        "\n",
        "k = 5\n",
        "l = 7\n",
        "\n",
        "print(k == l)\n",
        "print(k != l)\n",
        "print(k > l)\n",
        "print(k < l)"
      ],
      "metadata": {
        "id": "1qTXcSZYQbWA"
      },
      "execution_count": null,
      "outputs": []
    },
    {
      "cell_type": "code",
      "source": [
        "# Ecuación cuadrática\n",
        "\n",
        "# ax^2 + bx + c = 0\n",
        "\n",
        "a = 3\n",
        "b = -4\n",
        "c = 1\n",
        "\n",
        "disc = (b ** 2 - 4 * a * c) ** (0.5)\n",
        "x_p = (-b + disc) / (2 * a)\n",
        "x_n = (-b - disc) / (2 * a)\n",
        "print(x_p)\n",
        "print(x_n)"
      ],
      "metadata": {
        "id": "P1hnyCLaUNVY"
      },
      "execution_count": null,
      "outputs": []
    },
    {
      "cell_type": "code",
      "source": [
        "# +=\n",
        "\n",
        "a = 5\n",
        "a += 3\n",
        "#print(a)\n",
        "a -= 2\n",
        "a *= 5\n",
        "# a //= 3 - División entera\n",
        "a /= 3\n",
        "print(int(a))\n",
        "b = 3\n",
        "print(float(b))"
      ],
      "metadata": {
        "id": "lxzG-MMWYszj"
      },
      "execution_count": null,
      "outputs": []
    },
    {
      "cell_type": "code",
      "source": [
        "# Expresiones Booleanas\n",
        "\n",
        "# and (&&), or (||), not\n",
        "\n",
        "a = True\n",
        "b = False\n",
        "\n",
        "print(a and b)\n",
        "print(a or b)\n",
        "print(not a)\n",
        "\n",
        "m = 5\n",
        "n = 10\n",
        "print((m > n) and (n < 8))"
      ],
      "metadata": {
        "id": "AuOvYggJZmcE"
      },
      "execution_count": null,
      "outputs": []
    },
    {
      "cell_type": "code",
      "source": [
        "# Condicionales\n",
        "\n",
        "# if\n",
        "\n",
        "age = 10\n",
        "\n",
        "if age > 18:\n",
        "  print(\"Mayor de edad.\")\n",
        "\n",
        "# if - else\n",
        "\n",
        "if age >= 18:\n",
        "  print(\"Mayor de edad.\")\n",
        "else:\n",
        "  print(\"Menor de edad.\")\n",
        "\n",
        "# elif\n",
        "\n",
        "age = 31\n",
        "\n",
        "if age < 18:\n",
        "  print(\"Menor de edad.\")\n",
        "elif age < 30:\n",
        "  print(\"Joven adulto.\")\n",
        "else:\n",
        "  print(\"Viejo.\")\n",
        "\n"
      ],
      "metadata": {
        "id": "3DvMtyfcbyFP"
      },
      "execution_count": null,
      "outputs": []
    },
    {
      "cell_type": "code",
      "source": [
        "# Ec. Cuadrática con condicionales\n",
        "\n",
        "a = 1\n",
        "b = 2\n",
        "c = -5\n",
        "\n",
        "disc = b ** 2 - 4 * a * c\n",
        "\n",
        "if disc < 0:\n",
        "  print(\"No tiene solución real (discriminante negativo)\")\n",
        "elif disc == 0:\n",
        "  x = -b / (2 * a)\n",
        "  print(\"Raíz repetida: x = \", x)\n",
        "else:\n",
        "  x_1 = (-b + disc ** (0.5)) / (2 * a)\n",
        "  x_2 = (-b - disc ** (0.5)) / (2 * a)\n",
        "  print(\"Solución: x_1 = \", x_1, \". x_2 = \", x_2)"
      ],
      "metadata": {
        "id": "jpy-xu0Wd1Ye"
      },
      "execution_count": null,
      "outputs": []
    },
    {
      "cell_type": "code",
      "source": [
        "# Entradas\n",
        "\n",
        "# input()\n",
        "\n",
        "name = input(\"¿Cuál es tu nombre? \")\n",
        "age = int(input(\"¿Cuál es tu edad? \"))\n",
        "\n",
        "print(\"Hola, \", name, \". Tu edad es\", str(age), \"años.\")\n",
        "\n"
      ],
      "metadata": {
        "id": "OGbglZ3miDHP"
      },
      "execution_count": null,
      "outputs": []
    },
    {
      "cell_type": "markdown",
      "source": [
        "## Listas"
      ],
      "metadata": {
        "id": "AMiNPH6TKh1j"
      }
    },
    {
      "cell_type": "code",
      "source": [
        "# Listas\n",
        "\n",
        "fast_foods = [\"Pizza\", \"Suizo\", \"Hot Dog\", \"Hamburguesa\", \"Salchipapa\"]\n",
        "prices = [8000, 16000, 15000, 20000, 18000]\n",
        "\n",
        "# append\n",
        "\n",
        "fast_foods.append(\"Arepa Rellena\")\n",
        "prices.append(12000)\n",
        "\n",
        "print(fast_foods)\n",
        "print(prices)\n",
        "\n",
        "x = 3\n",
        "print(fast_foods[x])\n",
        "print(prices[x])\n",
        "\n",
        "print(fast_foods[-1])\n",
        "print(prices[-1])\n",
        "\n",
        "print(fast_foods[1:4])\n",
        "print(prices[1:4])\n",
        "\n",
        "prices[4] = 17500\n",
        "print(prices)\n",
        "\n",
        "x = \"Hamburguesa\"\n",
        "fast_foods.remove(x)\n",
        "x = 17500\n",
        "prices.remove(x)\n",
        "\n",
        "print(fast_foods)\n",
        "print(prices)\n",
        "\n",
        "# Pop\n",
        "\n",
        "fast_foods.pop()\n",
        "prices.pop()\n",
        "\n",
        "print(fast_foods)\n",
        "print(prices)\n",
        "\n",
        "fast_foods.pop(1)\n",
        "prices.pop(1)\n",
        "\n",
        "print(fast_foods)\n",
        "print(prices)"
      ],
      "metadata": {
        "id": "2favE6E6oIbL"
      },
      "execution_count": null,
      "outputs": []
    },
    {
      "cell_type": "code",
      "source": [
        "# Range & Len\n",
        "print(range(3))\n",
        "print(range(3, 10))\n",
        "print(range(3, 10, 2))\n",
        "print(len(range(3)))\n",
        "my_list = ['a', 'b', 'c']\n",
        "print(len(my_list))"
      ],
      "metadata": {
        "id": "vzX3KyiQq5Tt"
      },
      "execution_count": null,
      "outputs": []
    },
    {
      "cell_type": "code",
      "source": [
        "# Slicing\n",
        "\n",
        "a = list(range(-20, 20, 4))\n",
        "print(a)\n",
        "\n",
        "b = a[:-2]\n",
        "print(b)\n",
        "\n",
        "c = a[4:]\n",
        "print(c)\n",
        "\n",
        "d = a[3:8]\n",
        "print(d)\n"
      ],
      "metadata": {
        "id": "oD-4_L14OQr6"
      },
      "execution_count": null,
      "outputs": []
    },
    {
      "cell_type": "code",
      "source": [
        "# Sorting\n",
        "\n",
        "a = [3, 1, -5, 0, 8, 20]\n",
        "print(a)\n",
        "b = sorted(a)\n",
        "print(b)\n",
        "a.sort()\n",
        "print(a)\n"
      ],
      "metadata": {
        "id": "fyhyLnKvO4-5"
      },
      "execution_count": null,
      "outputs": []
    },
    {
      "cell_type": "code",
      "source": [
        "# Tuples\n",
        "\n",
        "a = (3, 'a', True)\n",
        "print(type(a))\n",
        "print(a)\n",
        "\n",
        "print(a[1])"
      ],
      "metadata": {
        "id": "8IWjvQMQQPZ6"
      },
      "execution_count": null,
      "outputs": []
    },
    {
      "cell_type": "code",
      "source": [
        "foods = ['Meat', 'Sandwich', 'Salad', 'Rice']\n",
        "prices = [10000, 8000, 12000, 7000]\n",
        "\n",
        "# food_prices = zip(foods, prices)\n",
        "# print(food_prices)\n",
        "\n",
        "food_prices = list(zip(foods, prices))\n",
        "print(food_prices)\n"
      ],
      "metadata": {
        "id": "nRlls2nuQ_6n"
      },
      "execution_count": null,
      "outputs": []
    },
    {
      "cell_type": "code",
      "source": [
        "# For\n",
        "\n",
        "grocery_list = ['tomate', 'cebolla', 'pepino', 'lechuga', 'pimentón', 'pollo', 'arroz', 'aceite', 'sal']\n",
        "i = 1\n",
        "for grocery in grocery_list:\n",
        "  print(i, grocery)\n",
        "  i += 1\n",
        "\n",
        "for i in range(len(grocery_list)):\n",
        "  print(i)"
      ],
      "metadata": {
        "id": "kKhtyEy2UQMW"
      },
      "execution_count": null,
      "outputs": []
    },
    {
      "cell_type": "code",
      "source": [
        "# while\n",
        "\n",
        "counter = 11\n",
        "while counter > 0:\n",
        "  counter -= 1\n",
        "  t = counter\n",
        "  print(\"El sistema explotará en ...\", t)\n",
        "print(\"Boom!\")"
      ],
      "metadata": {
        "id": "N1hRP9P4VSmv"
      },
      "execution_count": null,
      "outputs": []
    },
    {
      "cell_type": "code",
      "source": [
        "# Break\n",
        "\n",
        "for i in range(25):\n",
        "  print('Nada...', i)\n",
        "  if i == 11:\n",
        "    break"
      ],
      "metadata": {
        "id": "vvr3ontqVyQr"
      },
      "execution_count": null,
      "outputs": []
    },
    {
      "cell_type": "code",
      "source": [
        "# Continue\n",
        "for i in range(25):\n",
        "  if i % 2 == 0:\n",
        "    continue\n",
        "  print(i)\n"
      ],
      "metadata": {
        "id": "4JtfprFlYLKh"
      },
      "execution_count": null,
      "outputs": []
    },
    {
      "cell_type": "code",
      "source": [
        "# List comprehension\n",
        "\n",
        "t = list(range(0, 21))\n",
        "print(t)\n",
        "t = [t_i / 1000 for t_i in t]\n",
        "print(t)\n",
        "x = 1500\n",
        "b = 2\n",
        "y = [x * t_i + b for t_i in t]\n",
        "print(y)"
      ],
      "metadata": {
        "id": "UCWwgARVYYN3"
      },
      "execution_count": null,
      "outputs": []
    },
    {
      "cell_type": "code",
      "source": [
        "a = [5, 3, 10, 8, -5]\n",
        "b = [2, 4, 7, 10]\n",
        "\n",
        "if sum(a) > sum(b):\n",
        "  print(\"La primera lista tiene la suma más grande.\")\n",
        "elif sum(b) > sum(a):\n",
        "  print(\"La segunda lista tiene la suma más grande.\")\n",
        "else:\n",
        "  print(\"Las sumas son iguales.\")"
      ],
      "metadata": {
        "id": "9oyNOhwuYvhG"
      },
      "execution_count": null,
      "outputs": []
    },
    {
      "cell_type": "code",
      "source": [
        "# Suma de elementos\n",
        "\n",
        "my_sum = 0\n",
        "a = [3, 5, -1, 6, 8]\n",
        "\n",
        "for i in a:\n",
        "  my_sum += i\n",
        "\n",
        "print(my_sum)\n",
        "\n",
        "a = [3, 5, -1, 6, 8]\n",
        "my_sum = sum(a)\n",
        "print(my_sum)\n"
      ],
      "metadata": {
        "id": "oHzGYcXAadem"
      },
      "execution_count": null,
      "outputs": []
    },
    {
      "cell_type": "code",
      "source": [
        "import random\n",
        "\n",
        "a = ['Salchipapa', 'Yuca', 'Papa', 'Bollo', 'Chicharrón', 'Huevo cocido', 'Huevo frito',\n",
        "     'Salchica', 'Queso', 'Chocolate', 'Jugo de Corozo']\n",
        "\n",
        "for i in range(10):\n",
        "  print(a[random.randint(0, len(a)-1)])"
      ],
      "metadata": {
        "id": "I4J0-5Lec8kv"
      },
      "execution_count": null,
      "outputs": []
    },
    {
      "cell_type": "code",
      "source": [
        "import random\n",
        "\n",
        "titulo = ['Queridos', 'Apreciados', 'Distinguidos', 'Honorables', 'Estimados', 'Respetados']\n",
        "publico = ['compatriotas', 'copartidarios', 'amigos', 'coterráneos', 'conciudadanos', 'electores']\n",
        "condicion = ['En mi gobierno', 'Con su apoyo', 'Siendo elegido', 'Con su ayuda', 'Si me siguen', 'Durante mi mandato']\n",
        "compromiso = [\"voy a derrotar\", \"venceré\", \"eliminaré\", \"acabaré\", \"lucharé contra\", \"combatiré\"]\n",
        "ilusion = [\"la violencia y\", \"la delincuencia y\", \"la corrupción y\", \"la inflación y\", \"la pobreza y\", \"el desplazamiento y\"]\n",
        "promesa = [\"trabajaré por\", \"garantizaré\", \"protegeré\", \"velaré por\", \"promoveré\", \"defenderé\"]\n",
        "beneficio = [\"la educación\", \"el empleo\", \"la seguridad\", \"la paz\", \"la igualdad\", \"la salud\"]\n",
        "cantidad = [\"del país\", \"de la ciudad\", \"de la comunidad\", \"de la población\", \"para toda la gente\", \"de cada colombiano\"]\n",
        "\n",
        "s_titulo = titulo[random.randint(0, len(titulo) - 1)]\n",
        "s_publico = publico[random.randint(0, len(publico) - 1)]\n",
        "s_condicion = condicion[random.randint(0, len(condicion) - 1)]\n",
        "s_compromiso = compromiso[random.randint(0, len(compromiso) - 1)]\n",
        "s_ilusion = ilusion[random.randint(0, len(ilusion) - 1)]\n",
        "s_promesa = promesa[random.randint(0, len(promesa) - 1)]\n",
        "s_beneficio = beneficio[random.randint(0, len(beneficio) - 1)]\n",
        "s_cantidad = cantidad[random.randint(0, len(cantidad) - 1)]\n",
        "\n",
        "for i in range(10):\n",
        "  s_titulo = titulo[random.randint(0, len(titulo) - 1)]s\n",
        "  s_publico = publico[random.randint(0, len(publico) - 1)]\n",
        "  s_condicion = condicion[random.randint(0, len(condicion) - 1)]\n",
        "  s_compromiso = compromiso[random.randint(0, len(compromiso) - 1)]\n",
        "  s_ilusion = ilusion[random.randint(0, len(ilusion) - 1)]\n",
        "  s_promesa = promesa[random.randint(0, len(promesa) - 1)]\n",
        "  s_beneficio = beneficio[random.randint(0, len(beneficio) - 1)]\n",
        "  s_cantidad = cantidad[random.randint(0, len(cantidad) - 1)]\n",
        "  print(s_titulo, s_publico, \". \", s_condicion, s_compromiso, s_ilusion, s_promesa, s_beneficio, s_cantidad, \".\")"
      ],
      "metadata": {
        "id": "K6mWwsBIesY1"
      },
      "execution_count": null,
      "outputs": []
    },
    {
      "cell_type": "code",
      "source": [
        "# Functions\n",
        "\n",
        "def calcular_gastos(gastos, fecha, nombre=\"Usuario X\"):\n",
        "  total = 0\n",
        "  for i in range(len(gastos)):\n",
        "    total += gastos[i]\n",
        "  print(\"Hola\", nombre, \"En la fecha\", fecha, \"gastaste $\", total)\n"
      ],
      "metadata": {
        "id": "3-yFFkJ1hu2S"
      },
      "execution_count": null,
      "outputs": []
    },
    {
      "cell_type": "code",
      "source": [
        "# Posicional\n",
        "a = [2800, 2200, 2800, 11000, 3500]\n",
        "calcular_gastos(a, \"26/08/2023\", \"Miguel\")\n",
        "\n",
        "# Keywords\n",
        "a = [2800, 2200, 2800, 11000, 3500]\n",
        "calcular_gastos(nombre=\"Miguel\", fecha=\"26/08/2023\", gastos=a)\n",
        "\n",
        "# Default\n",
        "a = [2800, 2200, 2800, 11000, 3500]\n",
        "calcular_gastos(fecha=\"26/08/2023\", gastos=a)"
      ],
      "metadata": {
        "id": "oCEzceGsrDwy"
      },
      "execution_count": null,
      "outputs": []
    },
    {
      "cell_type": "code",
      "source": [
        "def calcular_gastos(gastos, fecha, nombre=\"Usuario X\"):\n",
        "  total = 0\n",
        "  for i in range(len(gastos)):\n",
        "    total += gastos[i]\n",
        "  print(\"Hola\", nombre, \"En la fecha\", fecha, \"gastaste $\", total)\n",
        "  return total\n",
        "\n",
        "x = calcular_gastos(fecha=\"26/08/2023\", gastos=a)\n",
        "print(x)"
      ],
      "metadata": {
        "id": "fEQ0Y3XRrQcR"
      },
      "execution_count": null,
      "outputs": []
    },
    {
      "cell_type": "code",
      "source": [
        "import math\n",
        "\n",
        "def calculate_area_circle(r):\n",
        "  a = math.pi * ( r ** 2 )\n",
        "  return a\n",
        "\n",
        "print(\"Programa para calcular el área de un círculo.\")\n",
        "r = float(input(\"Ingrese el radio del círculo: \"))\n",
        "\n",
        "a = calculate_area_circle(r)\n",
        "print(\"El área del círculo con radio\", r, \"m es\", a, \"m^2.\")"
      ],
      "metadata": {
        "id": "AhE9Y20Gsp0V"
      },
      "execution_count": null,
      "outputs": []
    },
    {
      "cell_type": "code",
      "source": [
        "print(\"Programa para calcular las raíces de la ecuación cuadrática. \")\n",
        "\n",
        "def solve_x2(a, b=0, c=0):\n",
        "  disc = b ** 2 - 4 * a * c\n",
        "  print(\"Ecuación: \", a, \"* x^2 +\", b, \"x +\", c, \"= 0\")\n",
        "  # Creamos las variables x_1 y x_2 con el fin de evitar error en el primer caso (sin solución real).\n",
        "  # Se le asigna el valor \"None\" para que no adquiera ningún valor numérico por defecto.\n",
        "  x_1 = None\n",
        "  x_2 = None\n",
        "  if disc < 0:\n",
        "    print(\"No tiene solución real (discriminante negativo)\")\n",
        "  elif disc == 0:\n",
        "    x_1 = -b / (2 * a)\n",
        "    x_2 = x_1\n",
        "    print(\"Solución: x_1 =\", x_1, \"x_2 =\", x_2)\n",
        "  else:\n",
        "    x_1 = (-b + disc ** (0.5)) / (2 * a)\n",
        "    x_2 = (-b - disc ** (0.5)) / (2 * a)\n",
        "    print(\"Solución: x_1 =\", x_1, \"x_2 =\", x_2)\n",
        "  return x_1, x_2\n",
        "\n",
        "# a = 3\n",
        "# b = 4\n",
        "# c = 1\n",
        "\n",
        "a = float(input(\"Ingrese la constante a: \"))\n",
        "b = float(input(\"Ingrese la constante b: \"))\n",
        "c = float(input(\"Ingrese la constante c: \"))\n",
        "\n",
        "x_1, x_2 = solve_x2(a, b, c)\n"
      ],
      "metadata": {
        "id": "DeXScFgWtiir"
      },
      "execution_count": null,
      "outputs": []
    },
    {
      "cell_type": "code",
      "source": [
        "1\n"
      ],
      "metadata": {
        "id": "p3B-g23yvbQ9"
      },
      "execution_count": null,
      "outputs": []
    }
  ]
}